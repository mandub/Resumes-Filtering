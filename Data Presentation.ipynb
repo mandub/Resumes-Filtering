{
 "cells": [
  {
   "cell_type": "code",
   "execution_count": 608,
   "metadata": {},
   "outputs": [
    {
     "name": "stdout",
     "output_type": "stream",
     "text": [
      "753\n"
     ]
    }
   ],
   "source": [
    "import pickle\n",
    "\n",
    "\n",
    "resumes = pickle.load( open( \"all_resumes.p\", \"rb\" ) )\n",
    "JD = pickle.load( open( \"JD.p\", \"rb\" ) )\n",
    "pickle_files = !ls -d '/home/mandub/Desktop/Thakaa/Resumes-Filtering/JD_resume_distance/'*.p\n",
    "JD_resume_distance_dict={}\n",
    "for pickle_file in pickle_files:\n",
    "    PFkey = int(pickle_file.split('/')[-1].replace(\".p\",''))\n",
    "    JD_resume_distance_dict[PFkey]=pickle.load(\n",
    "        open( \"JD_resume_distance/\" +pickle_file.split('/')[-1], \"rb\" ))\n",
    "print (len(JD_resume_distance_dict))"
   ]
  },
  {
   "cell_type": "code",
   "execution_count": 609,
   "metadata": {},
   "outputs": [],
   "source": [
    "def Sort_Distance(dict_distance):\n",
    "    sorted_distance = {} \n",
    "    for key in dict_distance:\n",
    "        alist = dict_distance[key]\n",
    "        alist.sort(key = lambda x: x[1])\n",
    "        sorted_distance[key] = alist[:100]        \n",
    "    return sorted_distance\n",
    "\n",
    "sorted_distance = Sort_Distance(JD_resume_distance_dict)\n"
   ]
  },
  {
   "cell_type": "code",
   "execution_count": 610,
   "metadata": {},
   "outputs": [],
   "source": [
    "#print (sorted_distance[4])"
   ]
  },
  {
   "cell_type": "code",
   "execution_count": 611,
   "metadata": {},
   "outputs": [],
   "source": [
    "import json\n",
    "with open('./assets/sorted_distance.txt', 'w') as outfile:\n",
    "    json.dump(sorted_distance, outfile)"
   ]
  },
  {
   "cell_type": "code",
   "execution_count": 1038,
   "metadata": {},
   "outputs": [],
   "source": [
    "from jupyter_dash import JupyterDash\n",
    "import dash\n",
    "import dash_core_components as dcc\n",
    "import dash_html_components as html\n",
    "from dash.dependencies import Output, Input\n",
    "import plotly.graph_objs as go\n",
    "from flask import Flask\n",
    "import flask\n",
    "import webbrowser\n",
    "import os\n",
    "import pandas as pd\n",
    "import dash_bootstrap_components as dbc\n",
    "from dash.dependencies import State\n",
    "import dash_table\n",
    "#####################\n",
    "import nltk\n",
    "import numpy\n",
    "from nltk.corpus import stopwords\n",
    "from nltk.tokenize import sent_tokenize,word_tokenize\n",
    "stop_words = set (stopwords.words(\"english\"))"
   ]
  },
  {
   "cell_type": "code",
   "execution_count": 1039,
   "metadata": {},
   "outputs": [],
   "source": [
    "#STATIC_PATH = os.path.join(os.path.dirname(os.path.abspath(\"static\")), 'static')\n",
    "#server = Flask(__name__)\n",
    "#app = dash.Dash(name = __name__, server = server)\n"
   ]
  },
  {
   "cell_type": "code",
   "execution_count": 1040,
   "metadata": {},
   "outputs": [
    {
     "data": {
      "text/plain": [
       "'\\nCategory_div = html.Div([    html.Button(\\'Job Category\\', id=\\'btn1\\', n_clicks=0 ),\\n    html.Button(\\'Button 2\\', id=\\'btn2\\', n_clicks=0),\\n    html.Button(\\'Button 3\\', id=\\'btn3\\', n_clicks=0),\\n    html.Div(id=\\'Category_div1\\')],className=\"header-style\")\\n'"
      ]
     },
     "execution_count": 1040,
     "metadata": {},
     "output_type": "execute_result"
    }
   ],
   "source": [
    "css_sheet = \"./assets/style.css\"\n",
    "\n",
    "external_stylesheets=[dbc.themes.BOOTSTRAP]\n",
    "app = JupyterDash(__name__,external_stylesheets=external_stylesheets)\n",
    "\n",
    "\n",
    "\n",
    "alist = [1,2,3]\n",
    "header_bar = html.Div([html.H1(\"Human Resource\"),\n",
    "                       html.Img(src=\"./assets/thakaa_logo.png\", width=200)],\n",
    "                      className= \"header-style\")\n",
    "\n",
    "jd_filter_div = html.Div([html.Label(\"Select Job Describtion\", className= \"input-style\"),\n",
    "                                dcc.Input(id=\"jd-input\",value=\"\", placeholder=\"Search....\",\n",
    "                                         className= \"input-style\"), html.Div(id=\"jd-output\")], className=\"block-style\")\n",
    "'''\n",
    "Category_div = html.Div([    html.Button('Job Category', id='btn1', n_clicks=0 ),\n",
    "    html.Button('Button 2', id='btn2', n_clicks=0),\n",
    "    html.Button('Button 3', id='btn3', n_clicks=0),\n",
    "    html.Div(id='Category_div1')],className=\"header-style\")\n",
    "''' "
   ]
  },
  {
   "cell_type": "code",
   "execution_count": 1041,
   "metadata": {},
   "outputs": [],
   "source": [
    "dominant_topics_df = pd.DataFrame(sorted_distance) "
   ]
  },
  {
   "cell_type": "code",
   "execution_count": 1042,
   "metadata": {},
   "outputs": [],
   "source": [
    "n_documents = dbc.Col([\n",
    "   html.Div([\n",
    "        html.H4(len(alist)),\n",
    "        html.H5(\"n documents\")\n",
    "   ], className = \"m-2 p-3 border border-light rounded bg-secondary text-white\")\n",
    "], md=5)\n",
    "\n",
    "value_counts = dominant_topics_df[0].value_counts()\n",
    "df_topics_count = pd.DataFrame({\"Highest_Score_Topic\": value_counts.index, \"count\" : value_counts.values})\n",
    "#df_topics_count.head(10)\n"
   ]
  },
  {
   "cell_type": "code",
   "execution_count": null,
   "metadata": {},
   "outputs": [],
   "source": []
  },
  {
   "cell_type": "code",
   "execution_count": 1043,
   "metadata": {},
   "outputs": [
    {
     "name": "stdout",
     "output_type": "stream",
     "text": [
      "﻿No Category Job What is 4\n"
     ]
    }
   ],
   "source": [
    "# JD\n",
    "print(JD[0][0],JD[0][1],JD[0][2],JD[0][3],JD[4][0])\n",
    "Category = {}\n",
    "for index, item in enumerate(JD):\n",
    "    if item[1] not in Category:\n",
    "        Category[item[1]]= [[index,item[2]]]\n",
    "    else:\n",
    "        Category[item[1]].append([index,item[2]])\n",
    "    \n",
    "    \n",
    "#Category_pd = pd.DataFrame(Category)"
   ]
  },
  {
   "cell_type": "code",
   "execution_count": 1044,
   "metadata": {},
   "outputs": [],
   "source": [
    "import dash_core_components as dcc\n",
    "dropdownCategory = dcc.Dropdown(\n",
    "                id='dropdownCategory',\n",
    "                options=[ {\"label\":topic, \"value\": topic} for topic in Category],\n",
    "                #label=\"Category\",\n",
    "                value='Category' )\n",
    "dropdownjob = dcc.Dropdown(\n",
    "                id='dropdownjob',\n",
    "                options=[ {\"label\":\"a job\", \"value\": \"a job\"} ],\n",
    "                value='Select_Job' )\n"
   ]
  },
  {
   "cell_type": "code",
   "execution_count": 1045,
   "metadata": {},
   "outputs": [],
   "source": [
    "\n",
    "controls = dbc.Card(\n",
    "    [\n",
    "        html.H2(\"Job Category\"),\n",
    "        html.Hr(),\n",
    "        dbc.Label(\"Select a Category\"),dropdownCategory ,\n",
    "        html.H2(\"Select a Job\"),\n",
    "        html.Hr(),\n",
    "        dbc.Label(\"Select a Job\"),#dropdownjob ,\n",
    "        #dcc.Upload(children= [dbc.Button('Upload File', color=\"primary\", className=\"mr-1\")],\n",
    "        #id='upload-data',\n",
    "        #Allow multiple files to be uploaded\n",
    "        #multiple=False\n",
    "        #),\n",
    "        html.Div(id='output1', children=\"Output:-\", className=\"my-2\"),\n",
    "        html.Hr(),\n",
    "        dbc.Button('Search for a Candidate  Resume', color=\"primary\", className=\"mr-1\"),\n",
    "        html.Div(id='output2', children=\"Choose a Job\", className=\"my-2\"),\n",
    "        dbc.Button('Search for a Candidate  Resume', color=\"primary\", className=\"mr-1\"),\n",
    "        html.Hr(),\n",
    "        html.Div(id='output3', children=\"output333\", className=\"my-2\"),\n",
    "        #dash_table.DataTable( id='table1' )\n",
    "        \n",
    "        \n",
    "    ],       \n",
    "    body=True,\n",
    "        \n",
    ")\n",
    "\n",
    "row = dbc.Row(\n",
    "    [dbc.Col(controls, md=4)],\n",
    "    className=\"my-3\")#'''dbc.Col(statisics_widget, md=8),'''"
   ]
  },
  {
   "cell_type": "code",
   "execution_count": 1046,
   "metadata": {},
   "outputs": [],
   "source": [
    "row = dbc.Row([\n",
    "    dbc.Col(controls, md=8)],\n",
    "    className=\"my-3\")\n"
   ]
  },
  {
   "cell_type": "code",
   "execution_count": 1047,
   "metadata": {},
   "outputs": [],
   "source": [
    "def Resumes_words_sents_tokenize_filter(resume):\n",
    "    words = word_tokenize(resume)\n",
    "    filter_resume = [w for w in words if not w in stop_words]\n",
    "    Astring = ''\n",
    "    for i in filter_resume:\n",
    "        Astring= Astring+' '+ str(i)\n",
    "    return Astring "
   ]
  },
  {
   "cell_type": "code",
   "execution_count": 1048,
   "metadata": {},
   "outputs": [],
   "source": [
    "#app.layout = html.Div(children=[header_bar,jd_filter_div, Category_div])#header_bar,jd_filter_div,\n",
    "#fluid=true ensures the containers take 100% screen size\n",
    "app.layout = dbc.Container([header_bar,html.Hr(),row], fluid=True) #"
   ]
  },
  {
   "cell_type": "code",
   "execution_count": 1049,
   "metadata": {},
   "outputs": [],
   "source": [
    "@app.callback( Output(component_id =\"output1\" , component_property = \"children\"),\n",
    "              [Input(component_id = \"dropdownCategory\", component_property = \"value\")])\n",
    "\n",
    "def update_jobs(Select_Category):\n",
    "    jobs = Category[Select_Category]\n",
    "    options=[{'label':job[1], 'value':job[0]} for job in jobs]\n",
    "    dropdownjob = dcc.Dropdown(\n",
    "                id='dropdownjob',\n",
    "                options= options,\n",
    "                value='Select_Job' )\n",
    "    return dropdownjob #\"Output changed: {}\".format(Select_Job)\n",
    "    "
   ]
  },
  {
   "cell_type": "code",
   "execution_count": 1050,
   "metadata": {},
   "outputs": [],
   "source": [
    "@app.callback(Output(component_id = 'output2', component_property ='children'),\n",
    "    [Input('dropdownjob', component_property ='value')])\n",
    "def show_job(job_id):\n",
    "    job_info = [html.H4(\"Job Descriptions: - {}\".format(JD[job_id][3])),html.Hr(),\n",
    "            html.H4(\"What Does: - {}\".format(JD[job_id][4])),html.Hr(),\n",
    "            html.H4(\"Job Brief: - {}\".format(JD[job_id][6])),html.Hr()            \n",
    "           ]\n",
    "    #job_dsc = 'Job Descriptions:' + JD[job_id][3]+' '+'What Does'+JD[job_id][4] +'\\n'+'Job brief'+JD[job_id][6]\n",
    "    return job_info\n"
   ]
  },
  {
   "cell_type": "code",
   "execution_count": 1051,
   "metadata": {},
   "outputs": [],
   "source": [
    "# resumes[[ID][Source][Path][file_name][Extension][Resume_String]{Resume_dict}]\n",
    "@app.callback(Output(component_id = 'output3', component_property ='children'),\n",
    "    [Input('dropdownjob', component_property ='value')])\n",
    "def show_Candidate_Resumes(job_id):\n",
    "    alist= sorted_distance[job_id]\n",
    "    Candidate_Resume= alist[:10]\n",
    "    C_R_L =[]\n",
    "    for i in Candidate_Resume:\n",
    "        resumeID= resumes[i[0]][0]\n",
    "        resumePATH= resumes[i[0]][2] +resumes[i[0]][3]\n",
    "        resumestr=Resumes_words_sents_tokenize_filter(resumes[i[0]][5]) \n",
    "        C_R_L.append(\"resumeID: \"+str(resumeID)+\" resumePATH \"+ resumePATH +\"-------\"+ resumestr)\n",
    "\n",
    "    canadidate_info= [\n",
    "        html.H4(\"A Resume 1: - {}\".format(C_R_L[0])),html.Hr(),\n",
    "        html.H4(\"A Resume 2: - {}\".format(C_R_L[1])),html.Hr(),\n",
    "        html.H4(\"A Resume 3: - {}\".format(C_R_L[2])),html.Hr(),\n",
    "        html.H4(\"A Resume 4: - {}\".format(C_R_L[3])),html.Hr(),\n",
    "        html.H4(\"A Resume 5: - {}\".format(C_R_L[4])),html.Hr(),\n",
    "        html.H4(\"A Resume 6: - {}\".format(C_R_L[5])),html.Hr(),\n",
    "        html.H4(\"A Resume 7: - {}\".format(C_R_L[6])),html.Hr(),\n",
    "        html.H4(\"A Resume 8: - {}\".format(C_R_L[7])),html.Hr(),\n",
    "        html.H4(\"A Resume 9: - {}\".format(C_R_L[8])),html.Hr(),\n",
    "        html.H4(\"A Resume10: - {}\".format(C_R_L[9])),html.Hr()\n",
    "    ]\n",
    "    return canadidate_info\n",
    "    "
   ]
  },
  {
   "cell_type": "code",
   "execution_count": 1052,
   "metadata": {},
   "outputs": [
    {
     "name": "stdout",
     "output_type": "stream",
     "text": [
      "Dash app running on http://127.0.0.1:8050/\n"
     ]
    }
   ],
   "source": [
    "\n",
    "if __name__ == '__main__':\n",
    "    app.run_server(debug=True)"
   ]
  },
  {
   "cell_type": "code",
   "execution_count": null,
   "metadata": {},
   "outputs": [],
   "source": []
  },
  {
   "cell_type": "code",
   "execution_count": null,
   "metadata": {},
   "outputs": [],
   "source": []
  }
 ],
 "metadata": {
  "kernelspec": {
   "display_name": "Python 3",
   "language": "python",
   "name": "python3"
  }
 },
 "nbformat": 4,
 "nbformat_minor": 4
}
