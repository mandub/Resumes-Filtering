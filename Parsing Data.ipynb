{
 "cells": [
  {
   "cell_type": "markdown",
   "metadata": {},
   "source": [
    "Thakaa center challenge"
   ]
  },
  {
   "cell_type": "code",
   "execution_count": 24,
   "metadata": {},
   "outputs": [],
   "source": [
    "path1 = \"Workable JD/workable.csv\" #path to read JD from file Workable JD \n",
    "data =[]"
   ]
  },
  {
   "cell_type": "code",
   "execution_count": 25,
   "metadata": {},
   "outputs": [],
   "source": [
    "with open(path1) as f:\n",
    "    for line in f:\n",
    "        linesplit =line.split(\",\")\n",
    "        \n",
    "        data.append(linesplit)"
   ]
  },
  {
   "cell_type": "code",
   "execution_count": 26,
   "metadata": {},
   "outputs": [
    {
     "name": "stdout",
     "output_type": "stream",
     "text": [
      "['1', 'Accounting', 'Cost analyst', ' Cost analysts study corporate expenses and create reports for management. One common industry for cost analysts is manufacturing where they are needed to audit production costs. Similar job titles are cost specialist and cost accountant. ', ' The primary duty of a cost analyst is to gather financial data (e.g. inventory purchases  labor costs) and analyze it to uncover inefficiencies. They may estimate production costs and track the changes in regular costs (e.g. due to new products and new processes).', 'Collecting and analyzing financial data Estimating costs and comparing budgets with actual expenses Monitoring costs after significant changes in products or processes', 'We are looking for a cost analyst to help us audit our expenses and find ways to make our operations more cost-efficient. You\\xe2\\x80\\x99ll be the go-to person for cost analysis and you\\xe2\\x80\\x99ll get to prepare reports to help management make better decisions. To do this job well  we\\xe2\\x80\\x99d like you to be well-versed in data and financial analysis  and have strong attention to detail. Ultimately  your job will be an integral part of our efforts to ensure profitability and business success. ', 'Gather and analyze financial data Determine standard costs and investigate variances with actual costs Prepare detailed reports  both periodically and ad-hoc Help management make important decisions based on costs and benefits (e.g. investments  market growth  pricing changes) Create and manage budgets  and monitor spending Conduct audits on financial processes and transactions Monitor changes in processes or methods to calculate effects on overall costs Estimate product costs for existing and new products Forecast and analyze costs of processes  labor and inventory Suggest cost-reducing or profitable solutions Conduct market research to support future business planning', 'Proven experience as a cost analyst  cost specialist or similar role Experience in data  operational and financial analysis Knowledge of accounting processes and software Strong analytical skills A business acumen Great attention to detail Good communication aptitude Degree in Finance  Accounting or similar field; Certified Public Accountant (CPA) preferred\\r\\n']\n"
     ]
    }
   ],
   "source": [
    "print data[1]"
   ]
  },
  {
   "cell_type": "code",
   "execution_count": 34,
   "metadata": {},
   "outputs": [
    {
     "name": "stdout",
     "output_type": "stream",
     "text": [
      "./Open source global resumes\n",
      "['Hedge Fund Accountant JD.docx', '4Dickson.pdf', '7Giraffe.pdf', '7Giraffe.doc', '4Dickson.doc', '6Faye.pdf', '9Ignatius.pdf', '2Ben.pdf', 'a2.pdf', '1Amy.docx', '5Edwardo.doc', '3Carrie.pdf', '2Ben.docx', '9Ignatius.docx', '5Edwardo.pdf', '3Carrie.docx', '6Faye.docx', 'a1.pdf', 'Major_Project_Report.pdf', '1Amy.pdf', '8Holly.pdf', '10Jonas.doc', '10Jonas.pdf', '8Holly.docx']\n"
     ]
    }
   ],
   "source": [
    "path2 = \"Open source global resumes\"\n",
    "import sys,os\n",
    "resumes=[]\n",
    "Directories =[]\n",
    "#resumesdir = os.listdir('./Open source global resumes')\n",
    "path= './' + path2\n",
    "print path\n",
    "for x in os.listdir(path):\n",
    "    if 'docx' in x:\n",
    "        resumes.append(x)\n",
    "    elif 'pdf' in x:\n",
    "        resumes.append(x)\n",
    "    elif 'doc' in x:\n",
    "        resumes.append(x)\n",
    "    elif '.DS_Store' in x:\n",
    "        p=0\n",
    "    elif '.exe' in x:\n",
    "        p=0\n",
    "    else:\n",
    "        Directories.append(x)\n",
    "#print Directories\n",
    "print resumes"
   ]
  },
  {
   "cell_type": "code",
   "execution_count": null,
   "metadata": {},
   "outputs": [],
   "source": []
  }
 ],
 "metadata": {
  "kernelspec": {
   "display_name": "Python 3",
   "language": "python",
   "name": "python3"
  },
  "language_info": {
   "codemirror_mode": {
    "name": "ipython",
    "version": 2
   },
   "file_extension": ".py",
   "mimetype": "text/x-python",
   "name": "python",
   "nbconvert_exporter": "python",
   "pygments_lexer": "ipython2",
   "version": "2.7.14"
  }
 },
 "nbformat": 4,
 "nbformat_minor": 2
}
